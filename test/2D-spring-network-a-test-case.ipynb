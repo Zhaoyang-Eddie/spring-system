{
 "cells": [
  {
   "cell_type": "markdown",
   "id": "29fad5de",
   "metadata": {},
   "source": [
    "# Problem statement\n",
    "    \n",
    "Two dimensional spring network under loading with possible fracture behaviors."
   ]
  },
  {
   "cell_type": "markdown",
   "id": "8dba212a",
   "metadata": {},
   "source": [
    "# Import libraries and set parameters"
   ]
  },
  {
   "cell_type": "code",
   "execution_count": 1,
   "id": "f9b64527",
   "metadata": {},
   "outputs": [],
   "source": [
    "# Import libraries\n",
    "\n",
    "import numpy as np \n",
    "\n",
    "import matplotlib.pyplot as plt\n",
    "\n",
    "# Set parameters\n",
    "\n",
    "time = 2 # total time steps\n",
    "\n",
    "dt = 1 # time step\n",
    "\n",
    "frame_t = np.linspace(0,time,int(time/dt)+1) # time frame\n",
    "\n",
    "length = 10 # length (x direction)\n",
    "\n",
    "width = 5 # width (y direction)\n",
    "\n",
    "dx = 2.5 # uniform distance between nodes in x direction\n",
    "\n",
    "dy = 5 # uniform distance between nodes in y direction\n",
    "\n",
    "num_x = int(length / dx) + 1 # number of nodes in x direction\n",
    "\n",
    "num_y = int(width / dy) + 1 # number of nodes in x direction\n",
    "\n",
    "mass = 1 # mass of each node"
   ]
  },
  {
   "cell_type": "markdown",
   "id": "41a213fc",
   "metadata": {},
   "source": [
    "# Define the IDs, x coordinates, and y coordinates of the nodes"
   ]
  },
  {
   "cell_type": "code",
   "execution_count": 2,
   "id": "bd0e8a6c",
   "metadata": {},
   "outputs": [],
   "source": [
    "# node_id: id for all the nodes (vector-form: number of nodes)\n",
    "\n",
    "node_id = np.arange(0, num_x * num_y, 1)"
   ]
  },
  {
   "cell_type": "code",
   "execution_count": 3,
   "id": "916398a2",
   "metadata": {},
   "outputs": [],
   "source": [
    "# node_x: x coordinate for all the nodes (vector-form: number of nodes)\n",
    "\n",
    "# node_y: y coordinate for all the nodes (vector-form: number of nodes)\n",
    "\n",
    "node_x = np.zeros((num_y,num_x))\n",
    "\n",
    "node_y = np.zeros((num_y,num_x))\n",
    "\n",
    "for i in range(num_x):\n",
    "    \n",
    "    node_x[:,i] = (i)*dx\n",
    "    \n",
    "for i in range(num_y):\n",
    "    \n",
    "    node_y[i,:] = (i)*dy\n",
    "\n",
    "node_x = node_x.flatten()\n",
    "\n",
    "node_y = node_y.flatten()"
   ]
  },
  {
   "cell_type": "markdown",
   "id": "c60aa505",
   "metadata": {},
   "source": [
    "# Define the local connectivity of the nodes"
   ]
  },
  {
   "cell_type": "code",
   "execution_count": 4,
   "id": "c5a1147b",
   "metadata": {},
   "outputs": [],
   "source": [
    "# neighbor_x: x-directional local connectivity matrix (matrix-form: number of nodes by 2)\n",
    "\n",
    "# neighbor_y: y-directional local connectivity matrix (matrix-form: number of nodes by 2)\n",
    "\n",
    "# 2 neighbors at most for each node in x direction OR y direction\n",
    "\n",
    "# each entity represents the ID of a neighbor node (-1 means no neighbor node)\n",
    "\n",
    "neighbor_x = -np.ones((num_x * num_y, 2))\n",
    "\n",
    "neighbor_y = -np.ones((num_x * num_y, 2))\n",
    "\n",
    "for i in node_id:\n",
    "    \n",
    "    num_neighbor_x = 0\n",
    "    \n",
    "    num_neighbor_y = 0\n",
    "    \n",
    "    for j in node_id:\n",
    "        \n",
    "        if (abs(abs(node_x[i] - node_x[j]) - dx) <= 1e-5 and abs(node_y[i] - node_y[j]) == 0):\n",
    "            \n",
    "            # adjacent nodes in x direction\n",
    "            \n",
    "            neighbor_x[i, num_neighbor_x] = j\n",
    "            \n",
    "            num_neighbor_x = num_neighbor_x + 1\n",
    "            \n",
    "        elif (abs(node_x[i] - node_x[j]) == 0 and abs(abs(node_y[i] - node_y[j]) - dy) <= 1e-5):\n",
    "            \n",
    "            # adjacent nodes in y direction\n",
    "            \n",
    "            neighbor_y[i, num_neighbor_y] = j\n",
    "            \n",
    "            num_neighbor_y = num_neighbor_y + 1"
   ]
  },
  {
   "cell_type": "markdown",
   "id": "4bdb64af",
   "metadata": {},
   "source": [
    "# Define the functions"
   ]
  },
  {
   "cell_type": "code",
   "execution_count": 5,
   "id": "1e384954",
   "metadata": {},
   "outputs": [],
   "source": [
    "# Input: displacement of the nodes, local connectivities of the nodes\n",
    "\n",
    "# Function: plot the spring system\n",
    "\n",
    "def plot_deformed(node_u, neighbor_x, neighbor_y):\n",
    "\n",
    "    fig, ax = plt.subplots(figsize=(10,10))\n",
    "    \n",
    "    ax.set_ylim(-2.5, 7.5)\n",
    "\n",
    "    for i in node_id: # loop for all the nodes\n",
    "        \n",
    "        txt = i\n",
    "        \n",
    "        location_x = node_x[i] + node_u[0, i]\n",
    "        \n",
    "        location_y = node_y[i] + node_u[1, i]\n",
    "    \n",
    "        ax.scatter(location_x, location_y, c='r') # plot all the nodes\n",
    "\n",
    "        ax.annotate(txt, (location_x, location_y)) # label all the nodes with their IDs\n",
    "    \n",
    "        for j in range(2):\n",
    "            \n",
    "            # 2 neighbors at most for each node in x direction OR y direction\n",
    "        \n",
    "            plot_spring(i, j, 'x', ax, location_x, location_y) # plot the springs in x direction\n",
    "            \n",
    "            plot_spring(i, j, 'y', ax, location_x, location_y) # plot the springs in y direction\n",
    "            \n",
    "\n",
    "    plt.show() "
   ]
  },
  {
   "cell_type": "code",
   "execution_count": 6,
   "id": "60308631",
   "metadata": {},
   "outputs": [],
   "source": [
    "# Embedded in 'plot_deformed' function\n",
    "\n",
    "# Input: node IDs, indicator for x direction OR y direction, figure canvas, location of the nodes\n",
    "\n",
    "# Function: plot deformed springs\n",
    "\n",
    "def plot_spring(i, j, indicator, ax, location_x, location_y):\n",
    "    \n",
    "    if indicator == 'x':\n",
    "        \n",
    "        # plot the spring in x direction\n",
    "        \n",
    "        neighbor = neighbor_x\n",
    "        \n",
    "    elif indicator == 'y':\n",
    "        \n",
    "        # plot the spring in y direction\n",
    "        \n",
    "        neighbor = neighbor_y\n",
    "        \n",
    "    if neighbor[i, j] != -1:\n",
    "        \n",
    "        # remember -1 means no neighbor node in local connectivities: neighbor_x and neighbor_y\n",
    "    \n",
    "        nei_i = int(neighbor[i, j]) # record the neighbor node ID\n",
    "    \n",
    "        if nei_i > i:\n",
    "            \n",
    "            # one directional search\n",
    "        \n",
    "            location_nei_x = node_x[nei_i] + node_u[0, nei_i]\n",
    "                    \n",
    "            location_nei_y = node_y[nei_i] + node_u[1, nei_i]\n",
    "    \n",
    "            ax.plot([location_x, location_nei_x], [location_y, location_nei_y], c='b', linewidth = 2, linestyle=':') "
   ]
  },
  {
   "cell_type": "code",
   "execution_count": 7,
   "id": "68ef48c6",
   "metadata": {},
   "outputs": [],
   "source": [
    "# Embedded in 'spring_force' function\n",
    "\n",
    "# Input: deformation of the spring\n",
    "\n",
    "# Output: force generated by the deformed spring\n",
    "\n",
    "# Method: linear spring model: F(x) = - k * x, k is set as 1 for convenience\n",
    "\n",
    "def linear(deform):\n",
    "    \n",
    "    spring_f = - 1 * deform\n",
    "    \n",
    "    return spring_f"
   ]
  },
  {
   "cell_type": "code",
   "execution_count": 8,
   "id": "c3f4dfd2",
   "metadata": {},
   "outputs": [],
   "source": [
    "# Embedded in 'compute_force' function\n",
    "\n",
    "# Input: node IDs, displacement of the nodes, indicator for x direction OR y direction, local connectivities of the nodes\n",
    "\n",
    "# Output: x- and y-component forces generated by the springs, deformation of the springs\n",
    "\n",
    "def spring_force(i, j, node_u, indicator, neighbor_x, neighbor_y):\n",
    "    \n",
    "    spring_fx = 0\n",
    "    \n",
    "    spring_fy = 0\n",
    "    \n",
    "    deform = 0\n",
    "    \n",
    "    if indicator == 'x':\n",
    "        \n",
    "        # compute the force generated by the springs in x direction\n",
    "        \n",
    "        original = dx\n",
    "        \n",
    "        neighbor = neighbor_x\n",
    "        \n",
    "    elif indicator == 'y':\n",
    "        \n",
    "        # compute the force generated by the springs in y direction\n",
    "        \n",
    "        original = dy\n",
    "        \n",
    "        neighbor = neighbor_y\n",
    "        \n",
    "    if neighbor[i, j] != -1:\n",
    "        \n",
    "        # remember -1 means no neighbor node in local connectivities: neighbor_x and neighbor_y\n",
    "        \n",
    "        nei_i = int(neighbor[i, j]) # record the neighbor node ID\n",
    "    \n",
    "        delx = node_x[i] + node_u[0, i] - node_x[nei_i] - node_u[0, nei_i] # compute the difference in location of adjacent nodes in x direction\n",
    "        \n",
    "        dely = node_y[i] + node_u[1, i] - node_y[nei_i] - node_u[1, nei_i] # compute the difference in location of adjacent nodes in y direction\n",
    "            \n",
    "        deform = np.linalg.norm([delx, dely]) - original # compute the deformation of the spring \n",
    "                \n",
    "        spring_fx = linear(deform) * (delx / (deform + original)) # compute x-component force generated by the spring\n",
    "                \n",
    "        spring_fy = linear(deform) * (dely / (deform + original)) # compute y-component force generated by the spring\n",
    "    \n",
    "    return spring_fx, spring_fy, deform              "
   ]
  },
  {
   "cell_type": "code",
   "execution_count": 9,
   "id": "8d037281",
   "metadata": {},
   "outputs": [],
   "source": [
    "# Input: displacement of the nodes, local connectivities of the nodes\n",
    "\n",
    "# Output: the resultant force applied on the node in x and y directions, updated local connectivities of the nodes\n",
    "\n",
    "def compute_force(node_u, neighbor_x, neighbor_y):\n",
    "    \n",
    "    critical = 100 # critical coefficient is very large (no fracture)\n",
    "    \n",
    "    spring_x_fx = np.zeros(neighbor_x.shape)\n",
    "    \n",
    "    spring_x_fy = np.zeros(neighbor_x.shape)\n",
    "    \n",
    "    spring_y_fx = np.zeros(neighbor_y.shape)\n",
    "    \n",
    "    spring_y_fy = np.zeros(neighbor_y.shape)\n",
    "    \n",
    "    deform_x = np.zeros(neighbor_x.shape)\n",
    "    \n",
    "    deform_y = np.zeros(neighbor_y.shape)\n",
    "    \n",
    "    for i in node_id:\n",
    "        \n",
    "        for j in range(2):\n",
    "            \n",
    "            spring_x_fx[i, j], spring_x_fy[i, j], deform_x[i, j] = spring_force(i, j, node_u, 'x', neighbor_x, neighbor_y)\n",
    "            \n",
    "            spring_y_fx[i, j], spring_y_fy[i, j], deform_y[i, j] = spring_force(i, j, node_u, 'y', neighbor_x, neighbor_y)\n",
    "    \n",
    "    # springs break when the deformation is greater than the critical stretch\n",
    "    \n",
    "    # once a spring breaks, the local connectivity vanishes and the force generated by the spring becomes zero\n",
    "    \n",
    "    neighbor_x[deform_x > critical * dx] = -1 # remember -1 means no neighbor node in local connectivities\n",
    "    \n",
    "    neighbor_y[deform_y > critical * dy] = -1\n",
    "    \n",
    "    spring_x_fx[deform_x > critical * dx] = 0 \n",
    "    \n",
    "    spring_x_fy[deform_y > critical * dy] = 0 \n",
    "    \n",
    "    spring_y_fx[deform_x > critical * dx] = 0 \n",
    "    \n",
    "    spring_y_fy[deform_y > critical * dy] = 0 \n",
    "    \n",
    "    spring_fx = np.sum(spring_x_fx + spring_y_fx, axis=1)\n",
    "                \n",
    "    spring_fy = np.sum(spring_x_fy + spring_y_fy, axis=1)\n",
    "                \n",
    "    spring_f = np.vstack((spring_fx, spring_fy))\n",
    "    \n",
    "    return spring_f, neighbor_x, neighbor_y"
   ]
  },
  {
   "cell_type": "code",
   "execution_count": 10,
   "id": "b7a33908",
   "metadata": {},
   "outputs": [],
   "source": [
    "# Input: velocity of the nodes\n",
    "\n",
    "# Output: drag force\n",
    "\n",
    "# Method: linear relationship between drag force and velocity\n",
    "\n",
    "def drag_force(node_v):\n",
    "    \n",
    "    drag_f = np.zeros((2, num_x * num_y))\n",
    "    \n",
    "    drag_f[:] = - 1 * node_v[:] # element-wise operation\n",
    "    \n",
    "    return drag_f"
   ]
  },
  {
   "cell_type": "code",
   "execution_count": 11,
   "id": "24409544",
   "metadata": {},
   "outputs": [],
   "source": [
    "# Input: t step acceleration, (t - 1) step acceleration,(t - 1/2) step velocity, t step displacement, current time step t\n",
    "\n",
    "# Output: (t + 1/2) step velocity, (t + 1) step displacement\n",
    "\n",
    "# Method: Explicit time integration based on the central difference adopted from Abaqus\n",
    "\n",
    "# Details: See below Markdown\n",
    "\n",
    "def explicit(a, a_old, v, u, t):\n",
    "    \n",
    "    print('current acceleration\\n', a) # print the current acceleration of the nodes\n",
    "    \n",
    "    if t == 0: # initialization for -1/2 step velocity\n",
    "        \n",
    "        v = v - a * dt / 2\n",
    "        \n",
    "        a_old = a\n",
    "\n",
    "    v = v + (a + a_old) * dt / 2\n",
    "    \n",
    "    u = u + v * dt\n",
    "    \n",
    "    print('updated velocity\\n', v) # print the updated velocity of the nodes\n",
    "    \n",
    "    print('updated displacement\\n', u) # print the updated displacement of the nodes\n",
    "\n",
    "    return v, u"
   ]
  },
  {
   "cell_type": "markdown",
   "id": "a5cefd29",
   "metadata": {},
   "source": [
    "# Note: explicit central difference scheme\n",
    "\n",
    "For each node:\n",
    "\n",
    "Velocity update rule:\n",
    "\n",
    "$$\n",
    "v_{k+\\frac{1}{2}} =  v_{k-\\frac{1}{2}} + \\Delta t \\frac{a_k + a_{k-1}}{2}\n",
    "$$\n",
    "\n",
    "for $k\\geq1$,\n",
    "\n",
    "with\n",
    "\n",
    "$$\n",
    "v_{+\\frac{1}{2}} = v_0 + \\frac{\\Delta t}{2} a_0,\n",
    "$$\n",
    "\n",
    "$$\n",
    "v_{-\\frac{1}{2}} = v_0 - \\frac{\\Delta t}{2} a_0,\n",
    "$$\n",
    "\n",
    "and\n",
    "\n",
    "$$\n",
    "a_{-1} = a_0\n",
    "$$\n",
    "\n",
    "for $k=0$.\n",
    "\n",
    "Displacement update rule:\n",
    "\n",
    "$$\n",
    "u_{k+1}=u_k + v_{k+\\frac{1}{2}} \\Delta t.\n",
    "$$"
   ]
  },
  {
   "cell_type": "markdown",
   "id": "e4fccc5f",
   "metadata": {},
   "source": [
    "# Begin the simulation"
   ]
  },
  {
   "cell_type": "code",
   "execution_count": 12,
   "id": "4b6c125e",
   "metadata": {},
   "outputs": [
    {
     "name": "stdout",
     "output_type": "stream",
     "text": [
      "current acceleration\n",
      " [[ 0.  0.  0.  0.  0.  0.  0.  0.  0.  0.]\n",
      " [-1.  0.  0.  0.  0.  1.  0.  0.  0.  0.]]\n",
      "updated velocity\n",
      " [[ 0.   0.   0.   0.   0.   0.   0.   0.   0.   0. ]\n",
      " [-0.5  0.   0.   0.   0.   0.5  0.   0.   0.   0. ]]\n",
      "updated displacement\n",
      " [[ 0.   0.   0.   0.   0.   0.   0.   0.   0.   0. ]\n",
      " [-0.5  0.   0.   0.   0.   0.5  0.   0.   0.   0. ]]\n",
      "current location\n",
      " [[ 0.   2.5  5.   7.5 10.   0.   2.5  5.   7.5 10. ]\n",
      " [-0.5  0.   0.   0.   0.   5.5  5.   5.   5.   5. ]]\n"
     ]
    },
    {
     "data": {
      "image/png": "[encoded data removed]",
      "text/plain": [
       "<Figure size 720x720 with 1 Axes>"
      ]
     },
     "metadata": {
      "needs_background": "light"
     },
     "output_type": "display_data"
    },
    {
     "name": "stdout",
     "output_type": "stream",
     "text": [
      "time frame: 0.0 \n",
      "\n",
      "current acceleration\n",
      " [[ 0.04854831 -0.04854831  0.          0.          0.          0.04854831\n",
      "  -0.04854831  0.          0.          0.        ]\n",
      " [ 0.00970966 -0.00970966  0.          0.          0.         -0.00970966\n",
      "   0.00970966  0.          0.          0.        ]]\n",
      "updated velocity\n",
      " [[ 0.02427416 -0.02427416  0.          0.          0.          0.02427416\n",
      "  -0.02427416  0.          0.          0.        ]\n",
      " [-0.99514517 -0.00485483  0.          0.          0.          0.99514517\n",
      "   0.00485483  0.          0.          0.        ]]\n",
      "updated displacement\n",
      " [[ 0.02427416 -0.02427416  0.          0.          0.          0.02427416\n",
      "  -0.02427416  0.          0.          0.        ]\n",
      " [-1.49514517 -0.00485483  0.          0.          0.          1.49514517\n",
      "   0.00485483  0.          0.          0.        ]]\n",
      "current location\n",
      " [[ 2.42741554e-02  2.47572584e+00  5.00000000e+00  7.50000000e+00\n",
      "   1.00000000e+01  2.42741554e-02  2.47572584e+00  5.00000000e+00\n",
      "   7.50000000e+00  1.00000000e+01]\n",
      " [-1.49514517e+00 -4.85483108e-03  0.00000000e+00  0.00000000e+00\n",
      "   0.00000000e+00  6.49514517e+00  5.00485483e+00  5.00000000e+00\n",
      "   5.00000000e+00  5.00000000e+00]]\n"
     ]
    },
    {
     "data": {
      "image/png": "[encoded data removed]",
      "text/plain": [
       "<Figure size 720x720 with 1 Axes>"
      ]
     },
     "metadata": {
      "needs_background": "light"
     },
     "output_type": "display_data"
    },
    {
     "name": "stdout",
     "output_type": "stream",
     "text": [
      "time frame: 1.0 \n",
      "\n",
      "current acceleration\n",
      " [[ 3.15221198e-01 -2.90942419e-01 -2.42787790e-02  0.00000000e+00\n",
      "   0.00000000e+00  3.15221198e-01 -2.90942419e-01 -2.42787790e-02\n",
      "   0.00000000e+00  0.00000000e+00]\n",
      " [ 2.18192010e+00 -1.81873406e-01 -4.66943619e-05  0.00000000e+00\n",
      "   0.00000000e+00 -2.18192010e+00  1.81873406e-01  4.66943619e-05\n",
      "   0.00000000e+00  0.00000000e+00]]\n",
      "updated velocity\n",
      " [[ 2.06158910e-01 -1.94019520e-01 -1.21393895e-02  0.00000000e+00\n",
      "   0.00000000e+00  2.06158910e-01 -1.94019520e-01 -1.21393895e-02\n",
      "   0.00000000e+00  0.00000000e+00]\n",
      " [ 1.00669713e-01 -1.00646365e-01 -2.33471809e-05  0.00000000e+00\n",
      "   0.00000000e+00 -1.00669713e-01  1.00646365e-01  2.33471809e-05\n",
      "   0.00000000e+00  0.00000000e+00]]\n",
      "updated displacement\n",
      " [[ 2.30433065e-01 -2.18293676e-01 -1.21393895e-02  0.00000000e+00\n",
      "   0.00000000e+00  2.30433065e-01 -2.18293676e-01 -1.21393895e-02\n",
      "   0.00000000e+00  0.00000000e+00]\n",
      " [-1.39447546e+00 -1.05501196e-01 -2.33471809e-05  0.00000000e+00\n",
      "   0.00000000e+00  1.39447546e+00  1.05501196e-01  2.33471809e-05\n",
      "   0.00000000e+00  0.00000000e+00]]\n",
      "current location\n",
      " [[ 2.30433065e-01  2.28170632e+00  4.98786061e+00  7.50000000e+00\n",
      "   1.00000000e+01  2.30433065e-01  2.28170632e+00  4.98786061e+00\n",
      "   7.50000000e+00  1.00000000e+01]\n",
      " [-1.39447546e+00 -1.05501196e-01 -2.33471809e-05  0.00000000e+00\n",
      "   0.00000000e+00  6.39447546e+00  5.10550120e+00  5.00002335e+00\n",
      "   5.00000000e+00  5.00000000e+00]]\n"
     ]
    },
    {
     "data": {
      "image/png": "[encoded data removed]",
      "text/plain": [
       "<Figure size 720x720 with 1 Axes>"
      ]
     },
     "metadata": {
      "needs_background": "light"
     },
     "output_type": "display_data"
    },
    {
     "name": "stdout",
     "output_type": "stream",
     "text": [
      "time frame: 2.0 \n",
      "\n"
     ]
    }
   ],
   "source": [
    "node_a = np.zeros((2, num_x * num_y))\n",
    "\n",
    "node_a_old = np.zeros((2, num_x * num_y))\n",
    "\n",
    "node_v = np.zeros((2, num_x * num_y))\n",
    "\n",
    "node_u = np.zeros((2, num_x * num_y)) # + 0.0001 * np.random.randn(2, num_x * num_y)\n",
    "\n",
    "# no randomness of displacement at the beginning\n",
    "\n",
    "active_node_up = []\n",
    "\n",
    "active_node_down = []\n",
    "\n",
    "for i in node_id:\n",
    "    \n",
    "    # extract loaded nodes\n",
    "    \n",
    "    if node_y[i] > 2.5 and abs(node_x[i] - 0) <= 1e-5:\n",
    "        \n",
    "        # top left node\n",
    "        \n",
    "        active_node_up.append(i)\n",
    "        \n",
    "    elif node_y[i] < 2.5 and abs(node_x[i] - 0) <= 1e-5:\n",
    "        \n",
    "        # bottom left node\n",
    "        \n",
    "        active_node_down.append(i)\n",
    "\n",
    "for t in frame_t: # loop within the time frame\n",
    "  \n",
    "    node_a[1, active_node_up] += (1 / mass) * 1 # upward concentration force = 1\n",
    "    \n",
    "    node_a[1, active_node_down] += (1 / mass) * (-1) # downward concentration force = -1\n",
    "\n",
    "    node_v, node_u = explicit(node_a, node_a_old, node_v, node_u, t) # update velocity and displacement of the nodes\n",
    "\n",
    "    node_a_old[:] = node_a[:] # record acceleration in this step (element-wise operation)\n",
    "    \n",
    "    spring_f, neighbor_x, neighbor_y = compute_force(node_u, neighbor_x, neighbor_y) # compute the force generated by the springs\n",
    "    \n",
    "    node_display = node_u + np.vstack((node_x, node_y)) # compute location of the nodes\n",
    "    \n",
    "    print('current location\\n', node_display) # print the location of the nodes\n",
    "    \n",
    "    plot_deformed(node_u, neighbor_x, neighbor_y) # plot the location of the nodes\n",
    "\n",
    "    # drag_f = drag_force(node_v) # do not consider drag force\n",
    "    \n",
    "    node_a[:] = (1 / mass) * (spring_f[:]) # compute acceleration only by the force generated by the springs (element-wise operation)\n",
    "    \n",
    "    print('time frame:', t, '\\n')"
   ]
  },
  {
   "cell_type": "markdown",
   "id": "451fbe21",
   "metadata": {},
   "source": [
    "# Second step calculation for node 0 in y direction:"
   ]
  },
  {
   "cell_type": "markdown",
   "id": "f5345770",
   "metadata": {},
   "source": [
    "Acceleration of node 0 by node 1 at the second step:"
   ]
  },
  {
   "cell_type": "code",
   "execution_count": 13,
   "id": "2dd64bcd",
   "metadata": {},
   "outputs": [
    {
     "data": {
      "text/plain": [
       "0.009709662154539887"
      ]
     },
     "execution_count": 13,
     "metadata": {},
     "output_type": "execute_result"
    }
   ],
   "source": [
    "(np.sqrt(2.5**2+0.5**2)-2.5)*(0.5/np.sqrt(2.5**2+0.5**2))"
   ]
  },
  {
   "cell_type": "markdown",
   "id": "bb9e5452",
   "metadata": {},
   "source": [
    "Total acceleration of node 0 at the second step:"
   ]
  },
  {
   "cell_type": "code",
   "execution_count": 14,
   "id": "6b6e3d8d",
   "metadata": {},
   "outputs": [
    {
     "data": {
      "text/plain": [
       "0.009709659999999953"
      ]
     },
     "execution_count": 14,
     "metadata": {},
     "output_type": "execute_result"
    }
   ],
   "source": [
    "-1 + 0.00970966 + 1"
   ]
  },
  {
   "cell_type": "markdown",
   "id": "d24220f8",
   "metadata": {},
   "source": [
    "Velocity of node 0 at the one-and-half step:"
   ]
  },
  {
   "cell_type": "code",
   "execution_count": 15,
   "id": "ce511082",
   "metadata": {},
   "outputs": [
    {
     "data": {
      "text/plain": [
       "-0.99514517"
      ]
     },
     "execution_count": 15,
     "metadata": {},
     "output_type": "execute_result"
    }
   ],
   "source": [
    "-1 + 0.00970966 * 0.5"
   ]
  },
  {
   "cell_type": "markdown",
   "id": "293ad451",
   "metadata": {},
   "source": [
    "Displacement of node 0 at the second step:"
   ]
  },
  {
   "cell_type": "code",
   "execution_count": 16,
   "id": "bfa6cc43",
   "metadata": {},
   "outputs": [
    {
     "data": {
      "text/plain": [
       "-1.49514517"
      ]
     },
     "execution_count": 16,
     "metadata": {},
     "output_type": "execute_result"
    }
   ],
   "source": [
    "(- 1 + 0.00970966 * 0.5) * 1 - 0.5"
   ]
  },
  {
   "cell_type": "markdown",
   "id": "04609a9b",
   "metadata": {},
   "source": [
    "# Third step calculation for node 0 in y direction:"
   ]
  },
  {
   "cell_type": "markdown",
   "id": "29c4db26",
   "metadata": {},
   "source": [
    "Acceleration of node 0 by node 1 at the third step:"
   ]
  },
  {
   "cell_type": "code",
   "execution_count": 17,
   "id": "0335be8f",
   "metadata": {},
   "outputs": [
    {
     "data": {
      "text/plain": [
       "0.19162976146935845"
      ]
     },
     "execution_count": 17,
     "metadata": {},
     "output_type": "execute_result"
    }
   ],
   "source": [
    "-(np.sqrt((2.42741554e-02-2.47572584e+00)**2+(-1.49514517e+00-(-4.85483108e-03))**2)-2.5)*((-1.49514517e+00-(-4.85483108e-03))/np.sqrt((2.42741554e-02-2.47572584e+00)**2+(-1.49514517e+00-(-4.85483108e-03))**2))"
   ]
  },
  {
   "cell_type": "markdown",
   "id": "c4d2ca0d",
   "metadata": {},
   "source": [
    "Acceleration of node 0 by node 5 at the third step:"
   ]
  },
  {
   "cell_type": "code",
   "execution_count": 18,
   "id": "cfc815f5",
   "metadata": {},
   "outputs": [
    {
     "data": {
      "text/plain": [
       "2.99029034"
      ]
     },
     "execution_count": 18,
     "metadata": {},
     "output_type": "execute_result"
    }
   ],
   "source": [
    "1.49514517 * 2"
   ]
  },
  {
   "cell_type": "markdown",
   "id": "04e60fa6",
   "metadata": {},
   "source": [
    "Total acceleration of node 0 at at the third step:"
   ]
  },
  {
   "cell_type": "code",
   "execution_count": 19,
   "id": "95284591",
   "metadata": {},
   "outputs": [
    {
     "data": {
      "text/plain": [
       "2.1819201014693586"
      ]
     },
     "execution_count": 19,
     "metadata": {},
     "output_type": "execute_result"
    }
   ],
   "source": [
    "2.99029034 - 1 + 0.19162976146935845"
   ]
  },
  {
   "cell_type": "markdown",
   "id": "2b9e04d9",
   "metadata": {},
   "source": [
    "Velocity of node 0 at at the two-and-half step:"
   ]
  },
  {
   "cell_type": "code",
   "execution_count": 20,
   "id": "f7151be6",
   "metadata": {},
   "outputs": [
    {
     "data": {
      "text/plain": [
       "0.10066971073467923"
      ]
     },
     "execution_count": 20,
     "metadata": {},
     "output_type": "execute_result"
    }
   ],
   "source": [
    "-0.99514517 + 0.00970966 * 0.5 + 2.1819201014693586 * 0.5"
   ]
  },
  {
   "cell_type": "markdown",
   "id": "c6eb8871",
   "metadata": {},
   "source": [
    "Displacement of node 0 at at the third step:"
   ]
  },
  {
   "cell_type": "code",
   "execution_count": 21,
   "id": "9ceac06b",
   "metadata": {},
   "outputs": [
    {
     "data": {
      "text/plain": [
       "-1.3944754592653208"
      ]
     },
     "execution_count": 21,
     "metadata": {},
     "output_type": "execute_result"
    }
   ],
   "source": [
    "0.10066971073467923 * 1 - 1.49514517"
   ]
  }
 ],
 "metadata": {
  "kernelspec": {
   "display_name": "Python 3 (ipykernel)",
   "language": "python",
   "name": "python3"
  },
  "language_info": {
   "codemirror_mode": {
    "name": "ipython",
    "version": 3
   },
   "file_extension": ".py",
   "mimetype": "text/x-python",
   "name": "python",
   "nbconvert_exporter": "python",
   "pygments_lexer": "ipython3",
   "version": "3.9.7"
  }
 },
 "nbformat": 4,
 "nbformat_minor": 5
}
